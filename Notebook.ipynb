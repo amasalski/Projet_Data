{
 "cells": [
  {
   "cell_type": "markdown",
   "metadata": {},
   "source": [
    "# DESCRIPTION DE L'ALGORITHME"
   ]
  },
  {
   "cell_type": "markdown",
   "metadata": {},
   "source": [
    "## 1. Modélisation du problème algorithmique"
   ]
  },
  {
   "cell_type": "markdown",
   "metadata": {},
   "source": [
    "### 1.1 Définition du problème formel"
   ]
  },
  {
   "cell_type": "markdown",
   "metadata": {},
   "source": [
    "Le but est de générer une tournée de livraison selon le problème de VRP (Vehicule Routing Problem).\n",
    "Nous devons relier un sous-ensemble de villes puis revenir au point de départ afin de minimiser la distance totale parcourue.\n",
    "\n",
    "Afin de résoudre ce problème, un choix de méthode de résolution issue de la recherche opérationnelle est à fournir."
   ]
  },
  {
   "cell_type": "markdown",
   "metadata": {},
   "source": [
    "### 1.2 Etude de la complexite"
   ]
  },
  {
   "cell_type": "markdown",
   "metadata": {},
   "source": [
    "Le Vehicule Routing Problem fait parti de la classe des problèmes NP-Complet. Il correspond à une classe de problèmes de \n",
    "recherche opérationnelle et d'optimisation combinatoire.\n",
    "\n",
    "Un vehicule doit livrer un sous-ensemble de villes. Chaque ville doit être livrée une seule fois. Le vehicule doit revenir au point de départ."
   ]
  },
  {
   "cell_type": "markdown",
   "metadata": {},
   "source": [
    "###### Les variables existantes"
   ]
  },
  {
   "cell_type": "raw",
   "metadata": {},
   "source": [
    "# Le nombre de villes, noté n\n",
    "Le nombre de véhicules, noté m\n",
    "La capacité de chaque véhicule, noté Q\n",
    "La distance ou temps parcouru entre les villes i et j, dit coût de l'arrête, noté Cij\n",
    "La contrainte horaire pour une ville donnée, notée qi"
   ]
  },
  {
   "cell_type": "markdown",
   "metadata": {},
   "source": [
    "###### Les variables de décision"
   ]
  },
  {
   "cell_type": "code",
   "execution_count": null,
   "metadata": {},
   "outputs": [],
   "source": [
    "X(ijk) = 1 si (i,j) est parcouru par le véhicule k,\n",
    "X(ijk) = 0 sinon"
   ]
  },
  {
   "cell_type": "markdown",
   "metadata": {},
   "source": [
    "###### Les contraintes existantes"
   ]
  },
  {
   "cell_type": "markdown",
   "metadata": {},
   "source": [
    "La contrainte objectif est de minimiser le temps de la distance totale parcourue entre chaque ville :     "
   ]
  },
  {
   "cell_type": "markdown",
   "metadata": {},
   "source": [
    "\\begin{equation*}\n",
    "\\left (\\sum_{i=1}^n \\sum_{j=1}^n C i j \\right) \\left (\\sum_{k=1}^m X i j k \\right)\n",
    "\\end{equation*}"
   ]
  },
  {
   "cell_type": "markdown",
   "metadata": {},
   "source": [
    "La ville doit être desservie une et une seule fois :"
   ]
  },
  {
   "cell_type": "markdown",
   "metadata": {},
   "source": [
    "\\begin{equation*}\n",
    "\\left (\\sum_{i=1}^n \\sum_{k=1}^m X i j k \\right) = 1  \n",
    "\\end{equation*}\n",
    "\n",
    "\\begin{equation*}\n",
    "\\left (\\sum_{j=1}^n \\sum_{k=1}^m X i j k \\right) = 1  \n",
    "\\end{equation*}"
   ]
  },
  {
   "cell_type": "code",
   "execution_count": null,
   "metadata": {},
   "outputs": [],
   "source": [
    "avec 1 =< j =< n \n",
    "et 1 =< i =< n "
   ]
  },
  {
   "cell_type": "markdown",
   "metadata": {},
   "source": [
    "La distance ou temps parcouru entre les villes doit maintenir un flot constant : "
   ]
  },
  {
   "cell_type": "markdown",
   "metadata": {},
   "source": [
    "\\begin{equation*}\n",
    "\\left (\\sum_{i=1}^n \\sum_{l=1}^n X i l k \\right) = \\left (\\sum_{l=1}^n \\sum_{j=1}^n X l j k \\right)\n",
    "\\end{equation*}"
   ]
  },
  {
   "cell_type": "markdown",
   "metadata": {},
   "source": [
    "Assurer que la tournée doit commencer et finir au même lieu : "
   ]
  },
  {
   "cell_type": "markdown",
   "metadata": {},
   "source": [
    "\\begin{equation*}\n",
    "\\left (\\sum_{j=1}^n X_0 j k \\right) = 1\n",
    "\\end{equation*}"
   ]
  },
  {
   "cell_type": "code",
   "execution_count": null,
   "metadata": {},
   "outputs": [],
   "source": [
    "avec 1 =< k =< m"
   ]
  },
  {
   "cell_type": "markdown",
   "metadata": {},
   "source": [
    "Les contraintes de capacités d un véhicule :"
   ]
  },
  {
   "cell_type": "markdown",
   "metadata": {},
   "source": [
    "\\begin{equation*}\n",
    "\\left (\\sum_{i=1}^n X i 0 k \\right) = 1\n",
    "\\end{equation*}"
   ]
  },
  {
   "cell_type": "code",
   "execution_count": null,
   "metadata": {},
   "outputs": [],
   "source": [
    "avec 1 =< k =< m"
   ]
  },
  {
   "cell_type": "markdown",
   "metadata": {},
   "source": [
    "Contraintes de binarité sur les variables de décision :"
   ]
  },
  {
   "cell_type": "markdown",
   "metadata": {},
   "source": [
    "\\begin{equation*}\n",
    "\\left (\\sum_{i=1}^n \\sum_{j=1}^n X i j k \\right) = 1  =< Q\n",
    "\\end{equation*}"
   ]
  },
  {
   "cell_type": "code",
   "execution_count": null,
   "metadata": {},
   "outputs": [],
   "source": [
    "avec 1 =< k =< m"
   ]
  },
  {
   "cell_type": "markdown",
   "metadata": {},
   "source": [
    "###### Méthode de résolution à adopter"
   ]
  },
  {
   "cell_type": "markdown",
   "metadata": {},
   "source": [
    "Face à une résolution de problème NP-Complet, nous devons choisir une méthode de résolution adaptée à la difficulté du problème ainsi qu'au temps dont nous disposons pour résoudre ce dernier.\n",
    "Nous allons donc utiliser une méthode issue de la recherche opérationnelle. Une méta-heuristique sera utilisée, nous permettant de trouver une bonne solution au problème sans garantir son optimalité à cent pour cent."
   ]
  },
  {
   "cell_type": "markdown",
   "metadata": {},
   "source": [
    "## 2. Presentation du choix et description de l'algorithme"
   ]
  },
  {
   "cell_type": "code",
   "execution_count": null,
   "metadata": {},
   "outputs": [],
   "source": [
    "Choix + Explications du choix"
   ]
  },
  {
   "cell_type": "code",
   "execution_count": null,
   "metadata": {},
   "outputs": [],
   "source": [
    "Code ici"
   ]
  },
  {
   "cell_type": "markdown",
   "metadata": {},
   "source": [
    "### 2.1 Fonctionnement et paramètres"
   ]
  },
  {
   "cell_type": "code",
   "execution_count": null,
   "metadata": {},
   "outputs": [],
   "source": []
  },
  {
   "cell_type": "markdown",
   "metadata": {},
   "source": [
    "### 2.2 Spécificités algorithmiques éventuelles ajoutées à la méthode"
   ]
  },
  {
   "cell_type": "code",
   "execution_count": null,
   "metadata": {},
   "outputs": [],
   "source": []
  },
  {
   "cell_type": "markdown",
   "metadata": {},
   "source": [
    "### 2.3 Modélisation du problème selon le formalisme de l'algorithme"
   ]
  },
  {
   "cell_type": "code",
   "execution_count": null,
   "metadata": {},
   "outputs": [],
   "source": []
  },
  {
   "cell_type": "markdown",
   "metadata": {},
   "source": [
    "## 3. Illustration des différents cas de tests"
   ]
  },
  {
   "cell_type": "code",
   "execution_count": null,
   "metadata": {},
   "outputs": [],
   "source": []
  },
  {
   "cell_type": "markdown",
   "metadata": {},
   "source": [
    "# ETUDE STATISTIQUE"
   ]
  },
  {
   "cell_type": "markdown",
   "metadata": {},
   "source": [
    "### 1. Statistiques descriptives et prédictives du comportement expérimental"
   ]
  },
  {
   "cell_type": "code",
   "execution_count": null,
   "metadata": {},
   "outputs": [],
   "source": []
  },
  {
   "cell_type": "markdown",
   "metadata": {},
   "source": [
    "### 2. Exploitation des paramètres de l'instance du problème et paramètres de l'algorithme"
   ]
  },
  {
   "cell_type": "code",
   "execution_count": null,
   "metadata": {},
   "outputs": [],
   "source": []
  },
  {
   "cell_type": "markdown",
   "metadata": {},
   "source": [
    "### 3. Analyse et commentaire des résultats"
   ]
  },
  {
   "cell_type": "code",
   "execution_count": null,
   "metadata": {},
   "outputs": [],
   "source": []
  }
 ],
 "metadata": {
  "celltoolbar": "Format de la Cellule Texte Brut",
  "kernelspec": {
   "display_name": "Python 3",
   "language": "python",
   "name": "python3"
  },
  "language_info": {
   "codemirror_mode": {
    "name": "ipython",
    "version": 3
   },
   "file_extension": ".py",
   "mimetype": "text/x-python",
   "name": "python",
   "nbconvert_exporter": "python",
   "pygments_lexer": "ipython3",
   "version": "3.7.3"
  }
 },
 "nbformat": 4,
 "nbformat_minor": 2
}
